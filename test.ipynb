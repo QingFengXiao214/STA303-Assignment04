{
 "cells": [
  {
   "cell_type": "code",
   "execution_count": 1,
   "id": "ac38fdbf",
   "metadata": {},
   "outputs": [
    {
     "data": {
      "text/plain": [
       "'\\n@article{ding2023classconditional,\\n  title={Class-Conditional Conformal Prediction with Many Classes},\\n  author={Ding, Tiffany and Angelopoulos, Anastasios N and Bates, \\n          Stephen and Jordan, Michael I and Tibshirani, Ryan J},\\n  journal={arXiv preprint arXiv:2306.09335},\\n  year={2023}\\n}\\n@article{huang2023conformal,\\n  title={Conformal Prediction for Deep Classifier via Label Ranking},\\n  author={Huang, Jianguo and Xi, Huajun and Zhang, Linjun and Yao, Huaxiu and Qiu, Yue and Wei, Hongxin},\\n  journal={arXiv preprint arXiv:2310.06430},\\n  year={2023}\\n}\\n'"
      ]
     },
     "execution_count": 1,
     "metadata": {},
     "output_type": "execute_result"
    }
   ],
   "source": [
    "\"\"\"\n",
    "@article{ding2023classconditional,\n",
    "  title={Class-Conditional Conformal Prediction with Many Classes},\n",
    "  author={Ding, Tiffany and Angelopoulos, Anastasios N and Bates, \n",
    "          Stephen and Jordan, Michael I and Tibshirani, Ryan J},\n",
    "  journal={arXiv preprint arXiv:2306.09335},\n",
    "  year={2023}\n",
    "}\n",
    "@article{huang2023conformal,\n",
    "  title={Conformal Prediction for Deep Classifier via Label Ranking},\n",
    "  author={Huang, Jianguo and Xi, Huajun and Zhang, Linjun and Yao, Huaxiu and Qiu, Yue and Wei, Hongxin},\n",
    "  journal={arXiv preprint arXiv:2310.06430},\n",
    "  year={2023}\n",
    "}\n",
    "\"\"\""
   ]
  },
  {
   "cell_type": "code",
   "execution_count": 2,
   "id": "ff6d365b",
   "metadata": {},
   "outputs": [],
   "source": [
    "#pip install torchcp"
   ]
  },
  {
   "cell_type": "code",
   "execution_count": 47,
   "id": "ba8c7526",
   "metadata": {},
   "outputs": [],
   "source": [
    "from torchcp.classification.scores import THR\n",
    "from torchcp.classification.scores import APS\n",
    "from torchcp.classification.scores import RAPS\n",
    "from torchcp.classification.scores import SAPS\n",
    "\n",
    "from torchcp.classification.predictors import SplitPredictor\n",
    "\n",
    "import os\n",
    "import time\n",
    "import os.path as osp\n",
    "\n",
    "import numpy as np\n",
    "import pandas as pd\n",
    "\n",
    "import torch\n",
    "import torch.nn as nn\n",
    "import torch.nn.functional as F\n",
    "import torch.optim as optim\n",
    "from torch.utils.data import DataLoader,Subset\n",
    "\n",
    "from torchvision.datasets import CIFAR10\n",
    "from torchvision import datasets\n",
    "from torchvision import transforms\n",
    "import torchvision\n",
    "import torchvision.models as models\n",
    "\n",
    "from transformers import CLIPProcessor, CLIPModel\n",
    "\n",
    "from PIL import Image, ImageFilter\n",
    "import matplotlib.pyplot as plt\n",
    "from PIL import Image\n",
    "from clip import clip\n",
    "\n",
    "import argparse\n",
    "import os\n",
    "\n",
    "import torch\n",
    "import torchvision\n",
    "import torchvision.datasets as dset\n",
    "import torchvision.transforms as trn\n",
    "from tqdm import tqdm\n",
    "\n",
    "from torchcp.classification.predictors import ClusterPredictor, ClassWisePredictor, SplitPredictor\n",
    "from torchcp.classification.scores import THR, APS, SAPS, RAPS\n",
    "from torchcp.classification import Metrics\n",
    "from torchcp.utils import fix_randomness\n",
    "from examples.common.dataset import build_dataset"
   ]
  },
  {
   "cell_type": "code",
   "execution_count": 26,
   "id": "bcc0e5f8",
   "metadata": {},
   "outputs": [
    {
     "name": "stdout",
     "output_type": "stream",
     "text": [
      "Files already downloaded and verified\n",
      "Files already downloaded and verified\n"
     ]
    }
   ],
   "source": [
    "# cifar10 transform\n",
    "BATCH_SIZE = 1024\n",
    "\n",
    "transform_cifar10_train = transforms.Compose([\n",
    "    transforms.RandomCrop(32, padding=4),\n",
    "    transforms.RandomHorizontalFlip(),\n",
    "    transforms.ToTensor(),\n",
    "    transforms.Normalize((0.4914, 0.4822, 0.4465), (0.2023, 0.1994, 0.2010)),\n",
    "])\n",
    "\n",
    "transform_cifar10_test = transforms.Compose([\n",
    "    transforms.ToTensor(),\n",
    "    transforms.Normalize((0.4914, 0.4822, 0.4465), (0.2023, 0.1994, 0.2010)),\n",
    "])\n",
    "\n",
    "train_set = torchvision.datasets.CIFAR10(root='../data', train=True,\n",
    "                                        download=True, transform=transform_cifar10_train)\n",
    "train_dataloader = torch.utils.data.DataLoader(train_set, batch_size=BATCH_SIZE,\n",
    "                                          shuffle=True, num_workers=2)\n",
    "\n",
    "test_set = torchvision.datasets.CIFAR10(root='../data', train=False,\n",
    "                                       download=True, transform=transform_cifar10_test)\n",
    "test_dataloader = torch.utils.data.DataLoader(test_set, batch_size=BATCH_SIZE,\n",
    "                                         shuffle=False, num_workers=2)\n",
    "\n",
    "class_names = ['airplane', 'automobile', 'bird', 'cat', 'deer', 'dog', 'frog', 'horse', 'ship', 'truck']"
   ]
  },
  {
   "cell_type": "code",
   "execution_count": 39,
   "id": "f85e9443",
   "metadata": {},
   "outputs": [],
   "source": [
    "class ConvNet(nn.Module):\n",
    "    def __init__(self):\n",
    "        super(ConvNet, self).__init__()\n",
    "        self.conv1 = nn.Conv2d(3, 4, 3)  \n",
    "        self.pool = nn.MaxPool2d(2, 2)\n",
    "        self.conv2 = nn.Conv2d(4, 8, 3)  \n",
    "        self.fc1 = nn.Linear(8 * 6 * 6, 32)\n",
    "        self.fc2 = nn.Linear(32, 10)\n",
    "\n",
    "    def forward(self, x):\n",
    "        x = self.pool(torch.relu(self.conv1(x)))\n",
    "        x = self.pool(torch.relu(self.conv2(x)))\n",
    "        x = x.view(-1, 8 * 6 * 6)\n",
    "        x = torch.relu(self.fc1(x))\n",
    "        x = self.fc2(x)\n",
    "        return x"
   ]
  },
  {
   "cell_type": "code",
   "execution_count": 40,
   "id": "c6a78a3f",
   "metadata": {},
   "outputs": [],
   "source": [
    "model =torch.load(\"./model.pth\")"
   ]
  },
  {
   "cell_type": "code",
   "execution_count": 44,
   "id": "acae1f0b",
   "metadata": {},
   "outputs": [
    {
     "name": "stdout",
     "output_type": "stream",
     "text": [
      "Files already downloaded and verified\n"
     ]
    }
   ],
   "source": [
    "model_device = torch.device(\"cuda:0\" if torch.cuda.is_available() else \"cpu\")\n",
    "model.to(model_device)\n",
    "model.eval()\n",
    "\n",
    "dataset = torchvision.datasets.CIFAR10(root='../data', train=True,download=True, transform=transform_cifar10_train)\n",
    "\n",
    "cal_dataset, test_dataset = torch.utils.data.random_split(dataset, [25000, 25000])\n",
    "cal_data_loader = torch.utils.data.DataLoader(cal_dataset, batch_size=1024, shuffle=False, pin_memory=True)\n",
    "test_data_loader = torch.utils.data.DataLoader(test_dataset, batch_size=1024, shuffle=False, pin_memory=True)\n",
    "\n",
    "# Options of score function: THR, APS, SAPS, RAPS\n",
    "# Define a conformal prediction algorithm. Optional: SplitPredictor, ClusterPredictor, ClassWisePredictor\n",
    "\n",
    "def test(score_function):\n",
    "    predictor = SplitPredictor(score_function=THR(), model=model)\n",
    "\n",
    "    # Calibrating the predictor with significance level as 0.1\n",
    "    predictor.calibrate(cal_data_loader, alpha=0.1)\n",
    "\n",
    "    #########################################\n",
    "    # Evaluating the coverage rate and average set size on a given dataset.\n",
    "    ########################################\n",
    "    result_dict = predictor.evaluate(test_data_loader)\n",
    "    print(result_dict[\"Coverage_rate\"], result_dict[\"Average_size\"])\n"
   ]
  },
  {
   "cell_type": "code",
   "execution_count": 50,
   "id": "0503d679",
   "metadata": {},
   "outputs": [
    {
     "name": "stdout",
     "output_type": "stream",
     "text": [
      "0.89832 4.38196\n",
      "0.90116 4.43996\n"
     ]
    }
   ],
   "source": [
    "test(THR())\n",
    "test(APS())"
   ]
  },
  {
   "cell_type": "code",
   "execution_count": 53,
   "id": "afee51d8",
   "metadata": {},
   "outputs": [
    {
     "name": "stdout",
     "output_type": "stream",
     "text": [
      "0.89804 4.43744\n",
      "0.9012 4.45904\n",
      "0.90004 4.4214\n",
      "0.90268 4.45996\n",
      "0.90168 4.43832\n",
      "0.9016 4.43072\n"
     ]
    }
   ],
   "source": [
    "s = {1,2,4,8,16,32}\n",
    "for i in s:\n",
    "    test(SAPS(i))              #weight must be positive"
   ]
  },
  {
   "cell_type": "code",
   "execution_count": 56,
   "id": "30021e3e",
   "metadata": {},
   "outputs": [
    {
     "name": "stdout",
     "output_type": "stream",
     "text": [
      "0.90156 4.39476\n",
      "0.9002 4.432\n",
      "0.90116 4.42608\n",
      "0.90132 4.4156\n",
      "0.90248 4.46168\n",
      "0.90136 4.4348\n",
      "0.89844 4.41972\n",
      "0.90024 4.42884\n"
     ]
    }
   ],
   "source": [
    "#penalty, kreg=0      penalty must be postive and kreg must be a natural\n",
    "s = {1,2,4,8,16,32,64,100}\n",
    "for i in s:\n",
    "    test(RAPS(i))"
   ]
  },
  {
   "cell_type": "code",
   "execution_count": 57,
   "id": "34ae8282",
   "metadata": {},
   "outputs": [
    {
     "name": "stdout",
     "output_type": "stream",
     "text": [
      "0.902 4.43176\n",
      "0.90068 4.44996\n",
      "0.89972 4.448\n",
      "0.90196 4.47336\n",
      "0.8988 4.40336\n",
      "0.90152 4.482\n",
      "0.8992 4.40908\n",
      "0.90224 4.4506\n",
      "0.9016 4.4056\n",
      "0.90152 4.45036\n",
      "0.9008 4.41828\n"
     ]
    }
   ],
   "source": [
    "\n",
    "for i in range(11):\n",
    "    test(RAPS(8,i))"
   ]
  }
 ],
 "metadata": {
  "kernelspec": {
   "display_name": "Python 3 (ipykernel)",
   "language": "python",
   "name": "python3"
  },
  "language_info": {
   "codemirror_mode": {
    "name": "ipython",
    "version": 3
   },
   "file_extension": ".py",
   "mimetype": "text/x-python",
   "name": "python",
   "nbconvert_exporter": "python",
   "pygments_lexer": "ipython3",
   "version": "3.10.12"
  }
 },
 "nbformat": 4,
 "nbformat_minor": 5
}
